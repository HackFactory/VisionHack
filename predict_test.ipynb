{
 "cells": [
  {
   "cell_type": "code",
   "execution_count": 3,
   "metadata": {
    "collapsed": true
   },
   "outputs": [],
   "source": [
    "import av\n",
    "import pandas as pd\n",
    "from av.video.stream import VideoStream\n",
    "import numpy as np\n",
    "import cv2\n",
    "import os\n",
    "import catboost\n",
    "\n",
    "def get_stats_for_file(array_file):\n",
    "    array_file = np.array(array_file)\n",
    "    \n",
    "    minim_mean = array_file.mean() - array_file.min()\n",
    "    maxim_mean = array_file.max() - array_file.mean()\n",
    "    std = array_file.std()\n",
    "    \n",
    "    diff = np.diff(array_file , n = 1)\n",
    "    min_max_1 = diff.max() - diff.min()\n",
    "    std_diff_1 = diff.std()\n",
    "    \n",
    "    diff = np.diff(array_file , n = 2)\n",
    "    min_max_2 = diff.max() - diff.min()\n",
    "    std_diff_2 = diff.std()\n",
    "    \n",
    "    diff = np.diff(array_file , n = 3)\n",
    "    min_max_3 = diff.max() - diff.min()\n",
    "    std_diff_3 = diff.std()\n",
    "    \n",
    "    return [minim_mean , maxim_mean  ,  std,  min_max_1 ,  std_diff_1 , min_max_2 ,  std_diff_2 ,min_max_3 ,  std_diff_3]\n",
    "\n",
    "def get_pixel_point(image):\n",
    "    image = image[0:100,:]\n",
    "    return image[:,:,0].mean()*0.299 + image[:,:,1].mean()*0.587 + image[:,:,2].mean()*0.114\n",
    "\n",
    "def get_array(path):\n",
    "    files = [video for video in os.listdir(path) if \".avi\" in video and \"._\" not in video]\n",
    "    data = []\n",
    "    lower_black = np.array([0, 0, 0])\n",
    "    upper_black = np.array([15, 15, 30])\n",
    "\n",
    "    kernel = np.ones((5,5),'int')\n",
    "    for file in (files):\n",
    "        array_1 = []\n",
    "        array_2 = []\n",
    "        array_3 = []\n",
    "        input_container = av.open(path + file)\n",
    "        input_packets = input_container.demux()\n",
    "        for packet in input_packets:\n",
    "            frames = packet.decode()\n",
    "            for raw_frame in frames:\n",
    "                x = raw_frame.to_rgb().to_nd_array()\n",
    "                \n",
    "                array_1.append(x[:,:,0].mean()*0.299  + x[:,:,1].mean()*0.587 + x[:,:,2].mean()*0.114)\n",
    "                array_2.append(get_pixel_point(x))\n",
    "                \n",
    "                frame_hsv = cv2.cvtColor(x, cv2.COLOR_RGB2HSV)\n",
    "                black_mask = cv2.inRange(frame_hsv, lower_black, upper_black)\n",
    "                black_mask = cv2.dilate(black_mask,kernel)\n",
    "                array_3.append((black_mask==255).sum()/black_mask.size)\n",
    "        data.append([file , array_1 , array_2 , array_3])\n",
    "    return data\n",
    "\n",
    "def generate_fich(path):\n",
    "    fich = []\n",
    "    data =  get_array(path)\n",
    "    file = data[0]\n",
    "    for x in data[1:]:\n",
    "        fich.append(get_stats_for_file(x))\n",
    "    fich = np.hstack(fich)\n",
    "    return pd.DataFrame([data , fich] , dtype=float)\n",
    "\n",
    "def get_fich(data):\n",
    "    fich = []\n",
    "    for x in data:\n",
    "        fich.append(np.hstack([x[0] , get_stats_for_file(x[1]) , get_stats_for_file(x[2]) , get_stats_for_file(x[3])]))\n",
    "    return pd.DataFrame(fich)"
   ]
  },
  {
   "cell_type": "code",
   "execution_count": 4,
   "metadata": {},
   "outputs": [],
   "source": [
    "path = 'tipa_valid/'\n",
    "test = get_array(path)\n",
    "test_fich = get_fich(test)\n",
    "\n",
    "model_bridge = catboost.CatBoostClassifier().load_model('model_bridge.cat')\n",
    "model_screen_wipers = catboost.CatBoostClassifier().load_model('model_screen_wipers.cat')\n",
    "\n",
    "files_test = [video for video in os.listdir(path) if \".avi\" in video and \"._\" not in video]\n",
    "porog_bridge = 0.5\n",
    "porog_screen_wipers = 0.5"
   ]
  },
  {
   "cell_type": "code",
   "execution_count": 11,
   "metadata": {},
   "outputs": [],
   "source": [
    "sub_screen_wipers = pd.DataFrame(files_test)\n",
    "sub_screen_wipers['res'] = model_screen_wipers.predict_proba(test_fich.drop([0] , axis=1))[:,1]\n",
    "sub_screen_wipers['res'] = sub_screen_wipers['res'].apply(lambda x: '000010' if x >= porog_screen_wipers  else '000000')\n",
    "sub_screen_wipers.to_csv('5.txt' , sep = ' ' , header=None , index=None)"
   ]
  },
  {
   "cell_type": "code",
   "execution_count": null,
   "metadata": {
    "collapsed": true
   },
   "outputs": [],
   "source": []
  }
 ],
 "metadata": {
  "kernelspec": {
   "display_name": "Python 3",
   "language": "python",
   "name": "python3"
  },
  "language_info": {
   "codemirror_mode": {
    "name": "ipython",
    "version": 3
   },
   "file_extension": ".py",
   "mimetype": "text/x-python",
   "name": "python",
   "nbconvert_exporter": "python",
   "pygments_lexer": "ipython3",
   "version": "3.6.1"
  }
 },
 "nbformat": 4,
 "nbformat_minor": 2
}
